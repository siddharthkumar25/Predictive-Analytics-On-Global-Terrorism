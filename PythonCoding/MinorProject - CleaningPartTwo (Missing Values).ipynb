{
 "cells": [
  {
   "cell_type": "markdown",
   "metadata": {},
   "source": [
    "# Importing Libraries"
   ]
  },
  {
   "cell_type": "code",
   "execution_count": 1,
   "metadata": {},
   "outputs": [],
   "source": [
    "import numpy as np\n",
    "import pandas as pd"
   ]
  },
  {
   "cell_type": "markdown",
   "metadata": {},
   "source": [
    "# Importing The Dataset"
   ]
  },
  {
   "cell_type": "code",
   "execution_count": 2,
   "metadata": {},
   "outputs": [],
   "source": [
    "data = pd.read_csv(\"A:/MinorProjectData/GlobalTerrorCleanPartOne.csv\")"
   ]
  },
  {
   "cell_type": "markdown",
   "metadata": {},
   "source": [
    "# Handling Missing Values"
   ]
  },
  {
   "cell_type": "code",
   "execution_count": 3,
   "metadata": {},
   "outputs": [
    {
     "data": {
      "text/plain": [
       "Unnamed: 0              0\n",
       "eventid                 0\n",
       "iyear                   0\n",
       "imonth                  0\n",
       "iday                    0\n",
       "extended                0\n",
       "country                 0\n",
       "country_txt             0\n",
       "region                  0\n",
       "region_txt              0\n",
       "provstate           14502\n",
       "city                  446\n",
       "latitude             4606\n",
       "longitude            4606\n",
       "specificity             4\n",
       "vicinity                0\n",
       "crit1                   0\n",
       "crit2                   0\n",
       "crit3                   0\n",
       "doubtterr               0\n",
       "multiple                0\n",
       "success                 0\n",
       "suicide                 0\n",
       "attacktype1             0\n",
       "attacktype1_txt         0\n",
       "targtype1               0\n",
       "targtype1_txt           0\n",
       "targsubtype1         9345\n",
       "targsubtype1_txt     9345\n",
       "corp1               42566\n",
       "target1               636\n",
       "natlty1              1394\n",
       "natlty1_txt          1394\n",
       "gname                   0\n",
       "guncertain1           379\n",
       "individual              0\n",
       "weaptype1               0\n",
       "weaptype1_txt           0\n",
       "weapsubtype1        19426\n",
       "weapsubtype1_txt    19426\n",
       "nkill                9682\n",
       "nwound              15325\n",
       "property                0\n",
       "ishostkid             178\n",
       "dbsource                0\n",
       "INT_LOG                 0\n",
       "INT_IDEO                0\n",
       "INT_MISC                0\n",
       "INT_ANY                 0\n",
       "dtype: int64"
      ]
     },
     "execution_count": 3,
     "metadata": {},
     "output_type": "execute_result"
    }
   ],
   "source": [
    "#Number of missing values in each column\n",
    "data.isnull().sum()"
   ]
  },
  {
   "cell_type": "markdown",
   "metadata": {},
   "source": [
    "| Using -1 for unknown values in each column | <br>\n",
    "| Also replacing -9 for -1 in the data which would represent unknown values which were earlier represented using -9 |"
   ]
  },
  {
   "cell_type": "code",
   "execution_count": 4,
   "metadata": {},
   "outputs": [],
   "source": [
    "#Column Specificity\n",
    "data['specificity'].fillna(-1 , inplace=True)"
   ]
  },
  {
   "cell_type": "code",
   "execution_count": 5,
   "metadata": {},
   "outputs": [],
   "source": [
    "#Columns ishostkid\n",
    "data['ishostkid'].fillna(-1 , inplace=True)\n",
    "data.loc[data['ishostkid'] == -9, 'ishostkid'] = -1"
   ]
  },
  {
   "cell_type": "code",
   "execution_count": 6,
   "metadata": {},
   "outputs": [],
   "source": [
    "#Column Vicinity\n",
    "data.loc[data['vicinity']==-9 , 'vicinity'] = -1"
   ]
  },
  {
   "cell_type": "code",
   "execution_count": 7,
   "metadata": {},
   "outputs": [],
   "source": [
    "#Column doubtterr\n",
    "data.loc[data['doubtterr']==-9,'doubtterr'] = -1 "
   ]
  },
  {
   "cell_type": "code",
   "execution_count": 8,
   "metadata": {},
   "outputs": [],
   "source": [
    "#Column target\n",
    "data['targsubtype1_txt'].fillna('Unknown', inplace=True)\n",
    "data['targsubtype1'].fillna(-1,inplace=True)\n",
    "data['target1'].fillna('Unknown', inplace=True)"
   ]
  },
  {
   "cell_type": "code",
   "execution_count": 9,
   "metadata": {},
   "outputs": [],
   "source": [
    "#column corp1\n",
    "data['corp1'].fillna('Unknown', inplace=True)"
   ]
  },
  {
   "cell_type": "code",
   "execution_count": 10,
   "metadata": {},
   "outputs": [],
   "source": [
    "#Column natlty\n",
    "data['natlty1_txt'].fillna('Unknown', inplace=True)\n",
    "data['natlty1'].fillna(-1 , inplace =True)"
   ]
  },
  {
   "cell_type": "code",
   "execution_count": 11,
   "metadata": {},
   "outputs": [],
   "source": [
    "#Column guncertain\n",
    "data['guncertain1'].fillna(-1, inplace=True)"
   ]
  },
  {
   "cell_type": "code",
   "execution_count": 12,
   "metadata": {},
   "outputs": [],
   "source": [
    "#Column weapons\n",
    "data['weapsubtype1_txt'].fillna('Unknown', inplace=True)\n",
    "data['weapsubtype1'].fillna(-1 , inplace=True)"
   ]
  },
  {
   "cell_type": "code",
   "execution_count": 14,
   "metadata": {},
   "outputs": [],
   "source": [
    "#Column state or region\n",
    "data['provstate'].fillna('Unknown' , inplace=True)"
   ]
  },
  {
   "cell_type": "code",
   "execution_count": 15,
   "metadata": {},
   "outputs": [],
   "source": [
    "#Column city\n",
    "data['city'].fillna('Unknown' , inplace = True)"
   ]
  },
  {
   "cell_type": "code",
   "execution_count": 16,
   "metadata": {},
   "outputs": [],
   "source": [
    "#Column entity targetted or organisation\n",
    "data['corp1'].fillna('Unknown' , inplace = True)"
   ]
  },
  {
   "cell_type": "code",
   "execution_count": 19,
   "metadata": {},
   "outputs": [],
   "source": [
    "#Column for primary target \n",
    "data['target1'].fillna('Unknown' , inplace = True)"
   ]
  },
  {
   "cell_type": "code",
   "execution_count": 20,
   "metadata": {},
   "outputs": [
    {
     "data": {
      "text/plain": [
       "Unnamed: 0              0\n",
       "eventid                 0\n",
       "iyear                   0\n",
       "imonth                  0\n",
       "iday                    0\n",
       "extended                0\n",
       "country                 0\n",
       "country_txt             0\n",
       "region                  0\n",
       "region_txt              0\n",
       "provstate               0\n",
       "city                    0\n",
       "latitude             4606\n",
       "longitude            4606\n",
       "specificity             0\n",
       "vicinity                0\n",
       "crit1                   0\n",
       "crit2                   0\n",
       "crit3                   0\n",
       "doubtterr               0\n",
       "multiple                0\n",
       "success                 0\n",
       "suicide                 0\n",
       "attacktype1             0\n",
       "attacktype1_txt         0\n",
       "targtype1               0\n",
       "targtype1_txt           0\n",
       "targsubtype1            0\n",
       "targsubtype1_txt        0\n",
       "corp1                   0\n",
       "target1                 0\n",
       "natlty1                 0\n",
       "natlty1_txt             0\n",
       "gname                   0\n",
       "guncertain1             0\n",
       "individual              0\n",
       "weaptype1               0\n",
       "weaptype1_txt           0\n",
       "weapsubtype1            0\n",
       "weapsubtype1_txt        0\n",
       "nkill                9682\n",
       "nwound              15325\n",
       "property                0\n",
       "ishostkid               0\n",
       "dbsource                0\n",
       "INT_LOG                 0\n",
       "INT_IDEO                0\n",
       "INT_MISC                0\n",
       "INT_ANY                 0\n",
       "dtype: int64"
      ]
     },
     "execution_count": 20,
     "metadata": {},
     "output_type": "execute_result"
    }
   ],
   "source": [
    "data.isnull().sum()"
   ]
  },
  {
   "cell_type": "code",
   "execution_count": 23,
   "metadata": {},
   "outputs": [
    {
     "data": {
      "text/html": [
       "<div>\n",
       "<style scoped>\n",
       "    .dataframe tbody tr th:only-of-type {\n",
       "        vertical-align: middle;\n",
       "    }\n",
       "\n",
       "    .dataframe tbody tr th {\n",
       "        vertical-align: top;\n",
       "    }\n",
       "\n",
       "    .dataframe thead th {\n",
       "        text-align: right;\n",
       "    }\n",
       "</style>\n",
       "<table border=\"1\" class=\"dataframe\">\n",
       "  <thead>\n",
       "    <tr style=\"text-align: right;\">\n",
       "      <th></th>\n",
       "      <th>count</th>\n",
       "      <th>mean</th>\n",
       "      <th>std</th>\n",
       "      <th>min</th>\n",
       "      <th>10%</th>\n",
       "      <th>20%</th>\n",
       "      <th>30%</th>\n",
       "      <th>40%</th>\n",
       "      <th>50%</th>\n",
       "      <th>60%</th>\n",
       "      <th>70%</th>\n",
       "      <th>80%</th>\n",
       "      <th>90%</th>\n",
       "      <th>100%</th>\n",
       "      <th>max</th>\n",
       "    </tr>\n",
       "  </thead>\n",
       "  <tbody>\n",
       "    <tr>\n",
       "      <th>nkill</th>\n",
       "      <td>160668.0</td>\n",
       "      <td>2.387246</td>\n",
       "      <td>11.327709</td>\n",
       "      <td>0.0</td>\n",
       "      <td>0.0</td>\n",
       "      <td>0.0</td>\n",
       "      <td>0.0</td>\n",
       "      <td>0.0</td>\n",
       "      <td>0.0</td>\n",
       "      <td>1.0</td>\n",
       "      <td>1.0</td>\n",
       "      <td>2.0</td>\n",
       "      <td>5.0</td>\n",
       "      <td>1500.0</td>\n",
       "      <td>1500.0</td>\n",
       "    </tr>\n",
       "    <tr>\n",
       "      <th>nwound</th>\n",
       "      <td>155025.0</td>\n",
       "      <td>3.200239</td>\n",
       "      <td>34.647365</td>\n",
       "      <td>0.0</td>\n",
       "      <td>0.0</td>\n",
       "      <td>0.0</td>\n",
       "      <td>0.0</td>\n",
       "      <td>0.0</td>\n",
       "      <td>0.0</td>\n",
       "      <td>0.0</td>\n",
       "      <td>1.0</td>\n",
       "      <td>3.0</td>\n",
       "      <td>7.0</td>\n",
       "      <td>7366.0</td>\n",
       "      <td>7366.0</td>\n",
       "    </tr>\n",
       "  </tbody>\n",
       "</table>\n",
       "</div>"
      ],
      "text/plain": [
       "           count      mean        std  min  10%  20%  30%  40%  50%  60%  70%  \\\n",
       "nkill   160668.0  2.387246  11.327709  0.0  0.0  0.0  0.0  0.0  0.0  1.0  1.0   \n",
       "nwound  155025.0  3.200239  34.647365  0.0  0.0  0.0  0.0  0.0  0.0  0.0  1.0   \n",
       "\n",
       "        80%  90%    100%     max  \n",
       "nkill   2.0  5.0  1500.0  1500.0  \n",
       "nwound  3.0  7.0  7366.0  7366.0  "
      ]
     },
     "execution_count": 23,
     "metadata": {},
     "output_type": "execute_result"
    }
   ],
   "source": [
    "data[['nkill', 'nwound']].describe(percentiles = [0.10, 0.20, 0.30, 0.40, 0.50, 0.60, 0.70, 0.80, 0.90, 1.0]).transpose()"
   ]
  },
  {
   "cell_type": "code",
   "execution_count": 24,
   "metadata": {},
   "outputs": [],
   "source": [
    "#FUNCTION TO FILL MISSING VALUES IN 'nkill' and 'nwound'\n",
    "def filling_missing_values(col):\n",
    "    fillvalue = 0.0 \n",
    "    k = 3 \n",
    "    col_clean = col.dropna()\n",
    "    col_std   = col_clean.std()\n",
    "    \n",
    "    #Outlier if not in range of 3 standard deviations of the column values. \n",
    "    outlier_value  = col_clean[col_clean > ( k * col_std )]\n",
    "    \n",
    "    if outlier_value.count() > 0 :\n",
    "        fillvalue = col_clean.median()\n",
    "    else:\n",
    "        fillvalue = col_clean.mean()\n",
    "    \n",
    "    return fillvalue\n",
    "    "
   ]
  },
  {
   "cell_type": "code",
   "execution_count": 27,
   "metadata": {},
   "outputs": [],
   "source": [
    "#Using function on 'nkill' and 'nwound'\n",
    "data['nkill'] = data['nkill'].fillna(filling_missing_values(data['nkill']))\n",
    "data['nwound'] = data['nwound'].fillna(filling_missing_values(data['nwound']))"
   ]
  },
  {
   "cell_type": "code",
   "execution_count": 44,
   "metadata": {},
   "outputs": [],
   "source": [
    "# Latitude And Longitude Values\n",
    "# No procedure can be used for handling the missing longitude and latitude values.\n",
    "# Best option is to drop the rows with these missing values. Number of rows are 4606.\n",
    "data = data.dropna().copy()"
   ]
  },
  {
   "cell_type": "code",
   "execution_count": 45,
   "metadata": {},
   "outputs": [
    {
     "name": "stdout",
     "output_type": "stream",
     "text": [
      "<class 'pandas.core.frame.DataFrame'>\n",
      "Int64Index: 165744 entries, 0 to 170349\n",
      "Data columns (total 49 columns):\n",
      "Unnamed: 0          165744 non-null int64\n",
      "eventid             165744 non-null int64\n",
      "iyear               165744 non-null int64\n",
      "imonth              165744 non-null int64\n",
      "iday                165744 non-null int64\n",
      "extended            165744 non-null int64\n",
      "country             165744 non-null int64\n",
      "country_txt         165744 non-null object\n",
      "region              165744 non-null int64\n",
      "region_txt          165744 non-null object\n",
      "provstate           165744 non-null object\n",
      "city                165744 non-null object\n",
      "latitude            165744 non-null object\n",
      "longitude           165744 non-null float64\n",
      "specificity         165744 non-null float64\n",
      "vicinity            165744 non-null int64\n",
      "crit1               165744 non-null int64\n",
      "crit2               165744 non-null int64\n",
      "crit3               165744 non-null int64\n",
      "doubtterr           165744 non-null int64\n",
      "multiple            165744 non-null int64\n",
      "success             165744 non-null int64\n",
      "suicide             165744 non-null int64\n",
      "attacktype1         165744 non-null int64\n",
      "attacktype1_txt     165744 non-null object\n",
      "targtype1           165744 non-null int64\n",
      "targtype1_txt       165744 non-null object\n",
      "targsubtype1        165744 non-null float64\n",
      "targsubtype1_txt    165744 non-null object\n",
      "corp1               165744 non-null object\n",
      "target1             165744 non-null object\n",
      "natlty1             165744 non-null float64\n",
      "natlty1_txt         165744 non-null object\n",
      "gname               165744 non-null object\n",
      "guncertain1         165744 non-null float64\n",
      "individual          165744 non-null int64\n",
      "weaptype1           165744 non-null int64\n",
      "weaptype1_txt       165744 non-null object\n",
      "weapsubtype1        165744 non-null float64\n",
      "weapsubtype1_txt    165744 non-null object\n",
      "nkill               165744 non-null float64\n",
      "nwound              165744 non-null float64\n",
      "property            165744 non-null int64\n",
      "ishostkid           165744 non-null float64\n",
      "dbsource            165744 non-null object\n",
      "INT_LOG             165744 non-null int64\n",
      "INT_IDEO            165744 non-null int64\n",
      "INT_MISC            165744 non-null int64\n",
      "INT_ANY             165744 non-null int64\n",
      "dtypes: float64(9), int64(25), object(15)\n",
      "memory usage: 53.7+ MB\n"
     ]
    }
   ],
   "source": [
    "data.info(verbose=True)"
   ]
  },
  {
   "cell_type": "code",
   "execution_count": 46,
   "metadata": {},
   "outputs": [
    {
     "data": {
      "text/plain": [
       "Unnamed: 0          0\n",
       "eventid             0\n",
       "iyear               0\n",
       "imonth              0\n",
       "iday                0\n",
       "extended            0\n",
       "country             0\n",
       "country_txt         0\n",
       "region              0\n",
       "region_txt          0\n",
       "provstate           0\n",
       "city                0\n",
       "latitude            0\n",
       "longitude           0\n",
       "specificity         0\n",
       "vicinity            0\n",
       "crit1               0\n",
       "crit2               0\n",
       "crit3               0\n",
       "doubtterr           0\n",
       "multiple            0\n",
       "success             0\n",
       "suicide             0\n",
       "attacktype1         0\n",
       "attacktype1_txt     0\n",
       "targtype1           0\n",
       "targtype1_txt       0\n",
       "targsubtype1        0\n",
       "targsubtype1_txt    0\n",
       "corp1               0\n",
       "target1             0\n",
       "natlty1             0\n",
       "natlty1_txt         0\n",
       "gname               0\n",
       "guncertain1         0\n",
       "individual          0\n",
       "weaptype1           0\n",
       "weaptype1_txt       0\n",
       "weapsubtype1        0\n",
       "weapsubtype1_txt    0\n",
       "nkill               0\n",
       "nwound              0\n",
       "property            0\n",
       "ishostkid           0\n",
       "dbsource            0\n",
       "INT_LOG             0\n",
       "INT_IDEO            0\n",
       "INT_MISC            0\n",
       "INT_ANY             0\n",
       "dtype: int64"
      ]
     },
     "execution_count": 46,
     "metadata": {},
     "output_type": "execute_result"
    }
   ],
   "source": [
    "data.isnull().sum()"
   ]
  },
  {
   "cell_type": "markdown",
   "metadata": {},
   "source": [
    "# Writing The Clean Dataset To A CSV File"
   ]
  },
  {
   "cell_type": "code",
   "execution_count": 43,
   "metadata": {},
   "outputs": [],
   "source": [
    "data.to_csv(\"A:/MinorProjectData/GlobalTerrorCleanPartTwo.csv\" , encoding =\"utf-8\")"
   ]
  },
  {
   "cell_type": "code",
   "execution_count": null,
   "metadata": {},
   "outputs": [],
   "source": []
  }
 ],
 "metadata": {
  "kernelspec": {
   "display_name": "Python 3",
   "language": "python",
   "name": "python3"
  },
  "language_info": {
   "codemirror_mode": {
    "name": "ipython",
    "version": 3
   },
   "file_extension": ".py",
   "mimetype": "text/x-python",
   "name": "python",
   "nbconvert_exporter": "python",
   "pygments_lexer": "ipython3",
   "version": "3.6.1"
  }
 },
 "nbformat": 4,
 "nbformat_minor": 2
}
