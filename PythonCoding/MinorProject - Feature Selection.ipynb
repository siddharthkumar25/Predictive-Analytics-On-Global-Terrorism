{
 "cells": [
  {
   "cell_type": "markdown",
   "metadata": {},
   "source": [
    "# Feature Selection"
   ]
  },
  {
   "cell_type": "markdown",
   "metadata": {},
   "source": [
    "Selecting only the attributes or features which contribute to the target variables is neccessary.\n",
    "Uneccessary features can reduce the performance of the predictive model and can lead to low accuracy.\n",
    "Only the revalant features should be used to train the model"
   ]
  },
  {
   "cell_type": "code",
   "execution_count": 1,
   "metadata": {},
   "outputs": [],
   "source": [
    "import pandas as pd\n",
    "import numpy as np\n",
    "from sklearn.feature_selection import SelectKBest\n",
    "from sklearn.feature_selection import chi2\n"
   ]
  },
  {
   "cell_type": "code",
   "execution_count": 2,
   "metadata": {},
   "outputs": [],
   "source": [
    "data = pd.read_csv(\"A:/MinorProjectData/GlobalTerrorCleanPartTwo.csv\")"
   ]
  },
  {
   "cell_type": "code",
   "execution_count": 3,
   "metadata": {},
   "outputs": [
    {
     "name": "stdout",
     "output_type": "stream",
     "text": [
      "<class 'pandas.core.frame.DataFrame'>\n",
      "RangeIndex: 165744 entries, 0 to 165743\n",
      "Data columns (total 48 columns):\n",
      "eventid             165744 non-null float64\n",
      "iyear               165744 non-null int64\n",
      "imonth              165744 non-null int64\n",
      "iday                165744 non-null int64\n",
      "extended            165744 non-null int64\n",
      "country             165744 non-null int64\n",
      "country_txt         165744 non-null object\n",
      "region              165744 non-null int64\n",
      "region_txt          165744 non-null object\n",
      "provstate           165744 non-null object\n",
      "city                165744 non-null object\n",
      "latitude            165744 non-null float64\n",
      "longitude           165744 non-null float64\n",
      "specificity         165744 non-null int64\n",
      "vicinity            165744 non-null int64\n",
      "crit1               165744 non-null int64\n",
      "crit2               165744 non-null int64\n",
      "crit3               165744 non-null int64\n",
      "doubtterr           165744 non-null int64\n",
      "multiple            165744 non-null int64\n",
      "success             165744 non-null int64\n",
      "suicide             165744 non-null int64\n",
      "attacktype1         165744 non-null int64\n",
      "attacktype1_txt     165744 non-null object\n",
      "targtype1           165744 non-null int64\n",
      "targtype1_txt       165744 non-null object\n",
      "targsubtype1        165744 non-null int64\n",
      "targsubtype1_txt    165744 non-null object\n",
      "corp1               165744 non-null object\n",
      "target1             165744 non-null object\n",
      "natlty1             165744 non-null int64\n",
      "natlty1_txt         165744 non-null object\n",
      "gname               165744 non-null object\n",
      "guncertain1         165744 non-null int64\n",
      "individual          165744 non-null int64\n",
      "weaptype1           165744 non-null int64\n",
      "weaptype1_txt       165744 non-null object\n",
      "weapsubtype1        165744 non-null int64\n",
      "weapsubtype1_txt    165744 non-null object\n",
      "nkill               165744 non-null int64\n",
      "nwound              165744 non-null int64\n",
      "property            165744 non-null int64\n",
      "ishostkid           165744 non-null int64\n",
      "dbsource            165744 non-null object\n",
      "INT_LOG             165744 non-null int64\n",
      "INT_IDEO            165744 non-null int64\n",
      "INT_MISC            165744 non-null int64\n",
      "INT_ANY             165744 non-null int64\n",
      "dtypes: float64(3), int64(31), object(14)\n",
      "memory usage: 51.8+ MB\n"
     ]
    }
   ],
   "source": [
    "data.info(verbose=True)"
   ]
  },
  {
   "cell_type": "code",
   "execution_count": 4,
   "metadata": {},
   "outputs": [],
   "source": [
    "#Changing the categorical columns to category data type\n",
    "\n",
    "category_att = ['country_txt', 'region_txt', 'specificity',\n",
    "              'attacktype1_txt', 'targtype1_txt', \n",
    "              'targsubtype1_txt', 'natlty1_txt', \n",
    "              'weaptype1_txt', 'weapsubtype1_txt']\n",
    "\n",
    "for i in category_att:\n",
    "    data[i] = data[i].astype('category')"
   ]
  },
  {
   "cell_type": "code",
   "execution_count": 99,
   "metadata": {},
   "outputs": [
    {
     "name": "stdout",
     "output_type": "stream",
     "text": [
      "<class 'pandas.core.frame.DataFrame'>\n",
      "RangeIndex: 165744 entries, 0 to 165743\n",
      "Data columns (total 48 columns):\n",
      "eventid             165744 non-null float64\n",
      "iyear               165744 non-null int64\n",
      "imonth              165744 non-null int64\n",
      "iday                165744 non-null int64\n",
      "extended            165744 non-null int64\n",
      "country             165744 non-null int64\n",
      "country_txt         165744 non-null category\n",
      "region              165744 non-null int64\n",
      "region_txt          165744 non-null category\n",
      "provstate           165744 non-null object\n",
      "city                165744 non-null object\n",
      "latitude            165744 non-null float64\n",
      "longitude           165744 non-null float64\n",
      "specificity         165744 non-null category\n",
      "vicinity            165744 non-null int64\n",
      "crit1               165744 non-null int64\n",
      "crit2               165744 non-null int64\n",
      "crit3               165744 non-null int64\n",
      "doubtterr           165744 non-null int64\n",
      "multiple            165744 non-null int64\n",
      "success             165744 non-null int64\n",
      "suicide             165744 non-null int64\n",
      "attacktype1         165744 non-null int64\n",
      "attacktype1_txt     165744 non-null category\n",
      "targtype1           165744 non-null int64\n",
      "targtype1_txt       165744 non-null category\n",
      "targsubtype1        165744 non-null int64\n",
      "targsubtype1_txt    165744 non-null category\n",
      "corp1               165744 non-null object\n",
      "target1             165744 non-null object\n",
      "natlty1             165744 non-null int64\n",
      "natlty1_txt         165744 non-null category\n",
      "gname               165744 non-null object\n",
      "guncertain1         165744 non-null int64\n",
      "individual          165744 non-null int64\n",
      "weaptype1           165744 non-null int64\n",
      "weaptype1_txt       165744 non-null category\n",
      "weapsubtype1        165744 non-null int64\n",
      "weapsubtype1_txt    165744 non-null category\n",
      "nkill               165744 non-null int64\n",
      "nwound              165744 non-null int64\n",
      "property            165744 non-null int64\n",
      "ishostkid           165744 non-null int64\n",
      "dbsource            165744 non-null object\n",
      "INT_LOG             165744 non-null int64\n",
      "INT_IDEO            165744 non-null int64\n",
      "INT_MISC            165744 non-null int64\n",
      "INT_ANY             165744 non-null int64\n",
      "dtypes: category(9), float64(3), int64(30), object(6)\n",
      "memory usage: 47.3+ MB\n"
     ]
    }
   ],
   "source": [
    "data.info(verbose=True)"
   ]
  },
  {
   "cell_type": "markdown",
   "metadata": {},
   "source": [
    "Checking relation of columns with our target variables using in-built feature selection methods"
   ]
  },
  {
   "cell_type": "code",
   "execution_count": 5,
   "metadata": {},
   "outputs": [],
   "source": [
    "#Value used for prediction\n",
    "X = pd.get_dummies(data['country_txt'])\n",
    "\n",
    "#Value To Predict\n",
    "Y = data['weaptype1_txt']"
   ]
  },
  {
   "cell_type": "code",
   "execution_count": 6,
   "metadata": {},
   "outputs": [],
   "source": [
    "feature_test = SelectKBest(score_func=chi2, k =3 )"
   ]
  },
  {
   "cell_type": "code",
   "execution_count": 7,
   "metadata": {},
   "outputs": [],
   "source": [
    "sel_features = feature_test.fit(X , Y)"
   ]
  },
  {
   "cell_type": "code",
   "execution_count": 8,
   "metadata": {},
   "outputs": [
    {
     "name": "stdout",
     "output_type": "stream",
     "text": [
      "6139.626388483619\n"
     ]
    },
    {
     "data": {
      "text/plain": [
       "0.5277589965964216"
      ]
     },
     "execution_count": 8,
     "metadata": {},
     "output_type": "execute_result"
    }
   ],
   "source": [
    "print(max(sel_features.scores_))\n",
    "min(sel_features.scores_)"
   ]
  },
  {
   "cell_type": "code",
   "execution_count": 9,
   "metadata": {},
   "outputs": [
    {
     "name": "stdout",
     "output_type": "stream",
     "text": [
      "4250.926157843302\n"
     ]
    },
    {
     "data": {
      "text/plain": [
       "38.45490794691512"
      ]
     },
     "execution_count": 9,
     "metadata": {},
     "output_type": "execute_result"
    }
   ],
   "source": [
    "#Value used for prediction\n",
    "X = pd.get_dummies(data['region_txt'])\n",
    "\n",
    "sel_features = feature_test.fit(X , Y)\n",
    "\n",
    "print(max(sel_features.scores_))\n",
    "min(sel_features.scores_)"
   ]
  },
  {
   "cell_type": "code",
   "execution_count": 10,
   "metadata": {},
   "outputs": [
    {
     "name": "stdout",
     "output_type": "stream",
     "text": [
      "93437.00489459957\n"
     ]
    },
    {
     "data": {
      "text/plain": [
       "616.5008918704337"
      ]
     },
     "execution_count": 10,
     "metadata": {},
     "output_type": "execute_result"
    }
   ],
   "source": [
    "#Value used for prediction\n",
    "X = pd.get_dummies(data['attacktype1_txt'])\n",
    "\n",
    "sel_features = feature_test.fit(X , Y)\n",
    "\n",
    "print(max(sel_features.scores_))\n",
    "min(sel_features.scores_)"
   ]
  },
  {
   "cell_type": "code",
   "execution_count": null,
   "metadata": {},
   "outputs": [],
   "source": []
  },
  {
   "cell_type": "markdown",
   "metadata": {},
   "source": [
    "FINAL LIST OF PREDICTOR VARIABLES"
   ]
  },
  {
   "cell_type": "code",
   "execution_count": 17,
   "metadata": {},
   "outputs": [],
   "source": [
    "X = pd.get_dummies(data[['country_txt','attacktype1_txt','region_txt']])\n",
    "X['nkill'] = data['nkill']\n",
    "X['nwound'] = data['nwound']"
   ]
  },
  {
   "cell_type": "code",
   "execution_count": 18,
   "metadata": {},
   "outputs": [],
   "source": [
    "Y  = data['weaptype1_txt']"
   ]
  },
  {
   "cell_type": "code",
   "execution_count": null,
   "metadata": {},
   "outputs": [],
   "source": []
  },
  {
   "cell_type": "markdown",
   "metadata": {},
   "source": [
    "Using Decision Trees For ranking the relevant columns for our modeling"
   ]
  },
  {
   "cell_type": "code",
   "execution_count": 89,
   "metadata": {},
   "outputs": [],
   "source": [
    "from sklearn.tree import DecisionTreeClassifier\n",
    "clf = DecisionTreeClassifier()\n",
    "X = data[['country','attacktype1','nkill' , \n",
    "          'nwound' ,'region' , 'targtype1' , \n",
    "          'iyear' , 'imonth' , 'iday' , 'extended' , 'targtype1', 'crit1',\n",
    "          'property' , 'targsubtype1' , 'natlty1' , 'success' , 'guncertain1',\n",
    "          'specificity','vicinity','doubtterr' ,'individual' , 'multiple']]\n",
    "clf = clf.fit(X, Y)"
   ]
  },
  {
   "cell_type": "code",
   "execution_count": null,
   "metadata": {},
   "outputs": [],
   "source": []
  },
  {
   "cell_type": "code",
   "execution_count": 90,
   "metadata": {},
   "outputs": [
    {
     "name": "stdout",
     "output_type": "stream",
     "text": [
      "country 0.02112874198830816\n",
      "attacktype1 0.7091105785244533\n",
      "nkill 0.018443057586382663\n",
      "nwound 0.014275293713675929\n",
      "region 0.01431645611673498\n",
      "targtype1 0.00766005012397148\n",
      "iyear 0.0370851110979855\n",
      "imonth 0.030887138208750907\n",
      "iday 0.0401299644052795\n",
      "extended 0.0017874119197285505\n",
      "targtype1 0.0064943633939106345\n",
      "crit1 0.0010635452653146896\n",
      "property 0.01445133814195001\n",
      "targsubtype1 0.033427389147072155\n",
      "natlty1 0.020267935002572332\n",
      "success 0.0035031797265917654\n",
      "guncertain1 0.003472141001441419\n",
      "specificity 0.007541528944307166\n",
      "vicinity 0.003060299872051006\n",
      "doubtterr 0.006850266747872304\n",
      "individual 0.0007356374542667407\n",
      "multiple 0.004308571617378555\n"
     ]
    }
   ],
   "source": [
    "for colname, feature_rank in enumerate(list(clf.feature_importances_)):\n",
    "        print (X.columns[colname], feature_rank)"
   ]
  },
  {
   "cell_type": "code",
   "execution_count": 96,
   "metadata": {},
   "outputs": [
    {
     "name": "stdout",
     "output_type": "stream",
     "text": [
      "country 0.02112874198830816\n",
      "attacktype1 0.7091105785244533\n",
      "iyear 0.0370851110979855\n",
      "imonth 0.030887138208750907\n",
      "iday 0.0401299644052795\n",
      "targsubtype1 0.033427389147072155\n",
      "natlty1 0.020267935002572332\n"
     ]
    }
   ],
   "source": [
    "percentile_values = np.percentile(clf.feature_importances_,70)\n",
    "selected_features = list()\n",
    "for colname, feature_rank in enumerate(list(clf.feature_importances_)):\n",
    "        if feature_rank >= percentile_values:\n",
    "            print (X.columns[colname], feature_rank)\n",
    "            selected_features.append(colname)"
   ]
  },
  {
   "cell_type": "code",
   "execution_count": null,
   "metadata": {},
   "outputs": [],
   "source": []
  }
 ],
 "metadata": {
  "kernelspec": {
   "display_name": "Python 3",
   "language": "python",
   "name": "python3"
  },
  "language_info": {
   "codemirror_mode": {
    "name": "ipython",
    "version": 3
   },
   "file_extension": ".py",
   "mimetype": "text/x-python",
   "name": "python",
   "nbconvert_exporter": "python",
   "pygments_lexer": "ipython3",
   "version": "3.6.1"
  }
 },
 "nbformat": 4,
 "nbformat_minor": 2
}
