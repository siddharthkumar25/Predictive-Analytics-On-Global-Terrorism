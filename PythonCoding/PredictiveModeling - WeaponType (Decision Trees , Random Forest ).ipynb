{
 "cells": [
  {
   "cell_type": "markdown",
   "metadata": {},
   "source": [
    "# Weapon Type Classification "
   ]
  },
  {
   "cell_type": "markdown",
   "metadata": {},
   "source": [
    "# Decision Trees and Random Forest"
   ]
  },
  {
   "cell_type": "markdown",
   "metadata": {},
   "source": [
    "Importing the needed libraries"
   ]
  },
  {
   "cell_type": "code",
   "execution_count": 5,
   "metadata": {},
   "outputs": [],
   "source": [
    "import pandas as pd\n",
    "import numpy as np\n",
    "import seaborn as sns\n",
    "import matplotlib.pyplot as plt\n",
    "%matplotlib inline\n",
    "import time"
   ]
  },
  {
   "cell_type": "code",
   "execution_count": 6,
   "metadata": {},
   "outputs": [],
   "source": [
    "from sklearn.tree import DecisionTreeClassifier\n",
    "from sklearn.model_selection import train_test_split\n",
    "\n",
    "from sklearn.metrics import classification_report , confusion_matrix\n",
    "from sklearn.metrics import accuracy_score\n",
    "\n",
    "from sklearn.ensemble import RandomForestClassifier"
   ]
  },
  {
   "cell_type": "markdown",
   "metadata": {},
   "source": [
    "Importing The Dataset"
   ]
  },
  {
   "cell_type": "code",
   "execution_count": 7,
   "metadata": {},
   "outputs": [],
   "source": [
    "data = pd.read_csv(\"A:/MinorProjectData/GlobalTerrorCleanPartTwo.csv\")"
   ]
  },
  {
   "cell_type": "code",
   "execution_count": 8,
   "metadata": {},
   "outputs": [
    {
     "data": {
      "text/plain": [
       "Index(['Unnamed: 0', 'Unnamed: 0.1', 'eventid', 'year', 'month', 'day',\n",
       "       'extended', 'country', 'country_txt', 'region', 'region_txt',\n",
       "       'provstate', 'city', 'latitude', 'longitude', 'specificity', 'vicinity',\n",
       "       'crit1', 'crit2', 'crit3', 'doubtterr', 'multiple', 'success',\n",
       "       'suicide', 'attacktype1', 'attacktype1_txt', 'targtype1',\n",
       "       'targtype1_txt', 'targsubtype1', 'targsubtype1_txt', 'corp1', 'target1',\n",
       "       'natlty1', 'natlty1_txt', 'gname', 'guncertain1', 'individual',\n",
       "       'weaptype1', 'weaptype1_txt', 'weapsubtype1', 'weapsubtype1_txt',\n",
       "       'nkill', 'nwound', 'property', 'ishostkid', 'dbsource', 'INT_LOG',\n",
       "       'INT_IDEO', 'INT_MISC', 'INT_ANY'],\n",
       "      dtype='object')"
      ]
     },
     "execution_count": 8,
     "metadata": {},
     "output_type": "execute_result"
    }
   ],
   "source": [
    "data.columns"
   ]
  },
  {
   "cell_type": "code",
   "execution_count": 9,
   "metadata": {},
   "outputs": [],
   "source": [
    "data.drop(labels = ['Unnamed: 0' , 'Unnamed: 0.1'] , axis=1 , inplace=True)"
   ]
  },
  {
   "cell_type": "code",
   "execution_count": 11,
   "metadata": {},
   "outputs": [
    {
     "data": {
      "text/html": [
       "<div>\n",
       "<style scoped>\n",
       "    .dataframe tbody tr th:only-of-type {\n",
       "        vertical-align: middle;\n",
       "    }\n",
       "\n",
       "    .dataframe tbody tr th {\n",
       "        vertical-align: top;\n",
       "    }\n",
       "\n",
       "    .dataframe thead th {\n",
       "        text-align: right;\n",
       "    }\n",
       "</style>\n",
       "<table border=\"1\" class=\"dataframe\">\n",
       "  <thead>\n",
       "    <tr style=\"text-align: right;\">\n",
       "      <th></th>\n",
       "      <th>eventid</th>\n",
       "      <th>year</th>\n",
       "      <th>month</th>\n",
       "      <th>day</th>\n",
       "      <th>extended</th>\n",
       "      <th>country</th>\n",
       "      <th>country_txt</th>\n",
       "      <th>region</th>\n",
       "      <th>region_txt</th>\n",
       "      <th>provstate</th>\n",
       "      <th>...</th>\n",
       "      <th>weapsubtype1_txt</th>\n",
       "      <th>nkill</th>\n",
       "      <th>nwound</th>\n",
       "      <th>property</th>\n",
       "      <th>ishostkid</th>\n",
       "      <th>dbsource</th>\n",
       "      <th>INT_LOG</th>\n",
       "      <th>INT_IDEO</th>\n",
       "      <th>INT_MISC</th>\n",
       "      <th>INT_ANY</th>\n",
       "    </tr>\n",
       "  </thead>\n",
       "  <tbody>\n",
       "    <tr>\n",
       "      <th>0</th>\n",
       "      <td>197000000001</td>\n",
       "      <td>1970</td>\n",
       "      <td>7</td>\n",
       "      <td>2</td>\n",
       "      <td>0</td>\n",
       "      <td>58</td>\n",
       "      <td>Dominican Republic</td>\n",
       "      <td>2</td>\n",
       "      <td>Central America &amp; Caribbean</td>\n",
       "      <td>Unknown</td>\n",
       "      <td>...</td>\n",
       "      <td>Unknown</td>\n",
       "      <td>1.0</td>\n",
       "      <td>0.0</td>\n",
       "      <td>0</td>\n",
       "      <td>0.0</td>\n",
       "      <td>PGIS</td>\n",
       "      <td>0</td>\n",
       "      <td>0</td>\n",
       "      <td>0</td>\n",
       "      <td>0</td>\n",
       "    </tr>\n",
       "    <tr>\n",
       "      <th>1</th>\n",
       "      <td>197000000002</td>\n",
       "      <td>1970</td>\n",
       "      <td>0</td>\n",
       "      <td>0</td>\n",
       "      <td>0</td>\n",
       "      <td>130</td>\n",
       "      <td>Mexico</td>\n",
       "      <td>1</td>\n",
       "      <td>North America</td>\n",
       "      <td>Unknown</td>\n",
       "      <td>...</td>\n",
       "      <td>Unknown</td>\n",
       "      <td>0.0</td>\n",
       "      <td>0.0</td>\n",
       "      <td>0</td>\n",
       "      <td>1.0</td>\n",
       "      <td>PGIS</td>\n",
       "      <td>0</td>\n",
       "      <td>1</td>\n",
       "      <td>1</td>\n",
       "      <td>1</td>\n",
       "    </tr>\n",
       "    <tr>\n",
       "      <th>2</th>\n",
       "      <td>197001000001</td>\n",
       "      <td>1970</td>\n",
       "      <td>1</td>\n",
       "      <td>0</td>\n",
       "      <td>0</td>\n",
       "      <td>160</td>\n",
       "      <td>Philippines</td>\n",
       "      <td>5</td>\n",
       "      <td>Southeast Asia</td>\n",
       "      <td>Tarlac</td>\n",
       "      <td>...</td>\n",
       "      <td>Unknown</td>\n",
       "      <td>1.0</td>\n",
       "      <td>0.0</td>\n",
       "      <td>0</td>\n",
       "      <td>0.0</td>\n",
       "      <td>PGIS</td>\n",
       "      <td>-9</td>\n",
       "      <td>-9</td>\n",
       "      <td>1</td>\n",
       "      <td>1</td>\n",
       "    </tr>\n",
       "    <tr>\n",
       "      <th>3</th>\n",
       "      <td>197001000002</td>\n",
       "      <td>1970</td>\n",
       "      <td>1</td>\n",
       "      <td>0</td>\n",
       "      <td>0</td>\n",
       "      <td>78</td>\n",
       "      <td>Greece</td>\n",
       "      <td>8</td>\n",
       "      <td>Western Europe</td>\n",
       "      <td>Attica</td>\n",
       "      <td>...</td>\n",
       "      <td>Unknown Explosive Type</td>\n",
       "      <td>0.0</td>\n",
       "      <td>0.0</td>\n",
       "      <td>1</td>\n",
       "      <td>0.0</td>\n",
       "      <td>PGIS</td>\n",
       "      <td>-9</td>\n",
       "      <td>-9</td>\n",
       "      <td>1</td>\n",
       "      <td>1</td>\n",
       "    </tr>\n",
       "    <tr>\n",
       "      <th>4</th>\n",
       "      <td>197001000003</td>\n",
       "      <td>1970</td>\n",
       "      <td>1</td>\n",
       "      <td>0</td>\n",
       "      <td>0</td>\n",
       "      <td>101</td>\n",
       "      <td>Japan</td>\n",
       "      <td>4</td>\n",
       "      <td>East Asia</td>\n",
       "      <td>Unknown</td>\n",
       "      <td>...</td>\n",
       "      <td>Unknown</td>\n",
       "      <td>0.0</td>\n",
       "      <td>0.0</td>\n",
       "      <td>1</td>\n",
       "      <td>0.0</td>\n",
       "      <td>PGIS</td>\n",
       "      <td>-9</td>\n",
       "      <td>-9</td>\n",
       "      <td>1</td>\n",
       "      <td>1</td>\n",
       "    </tr>\n",
       "  </tbody>\n",
       "</table>\n",
       "<p>5 rows × 48 columns</p>\n",
       "</div>"
      ],
      "text/plain": [
       "        eventid  year  month  day  extended  country         country_txt  \\\n",
       "0  197000000001  1970      7    2         0       58  Dominican Republic   \n",
       "1  197000000002  1970      0    0         0      130              Mexico   \n",
       "2  197001000001  1970      1    0         0      160         Philippines   \n",
       "3  197001000002  1970      1    0         0       78              Greece   \n",
       "4  197001000003  1970      1    0         0      101               Japan   \n",
       "\n",
       "   region                   region_txt provstate   ...     \\\n",
       "0       2  Central America & Caribbean   Unknown   ...      \n",
       "1       1                North America   Unknown   ...      \n",
       "2       5               Southeast Asia    Tarlac   ...      \n",
       "3       8               Western Europe    Attica   ...      \n",
       "4       4                    East Asia   Unknown   ...      \n",
       "\n",
       "         weapsubtype1_txt  nkill  nwound  property  ishostkid  dbsource  \\\n",
       "0                 Unknown    1.0     0.0         0        0.0      PGIS   \n",
       "1                 Unknown    0.0     0.0         0        1.0      PGIS   \n",
       "2                 Unknown    1.0     0.0         0        0.0      PGIS   \n",
       "3  Unknown Explosive Type    0.0     0.0         1        0.0      PGIS   \n",
       "4                 Unknown    0.0     0.0         1        0.0      PGIS   \n",
       "\n",
       "   INT_LOG  INT_IDEO  INT_MISC  INT_ANY  \n",
       "0        0         0         0        0  \n",
       "1        0         1         1        1  \n",
       "2       -9        -9         1        1  \n",
       "3       -9        -9         1        1  \n",
       "4       -9        -9         1        1  \n",
       "\n",
       "[5 rows x 48 columns]"
      ]
     },
     "execution_count": 11,
     "metadata": {},
     "output_type": "execute_result"
    }
   ],
   "source": [
    "data.head()"
   ]
  },
  {
   "cell_type": "markdown",
   "metadata": {},
   "source": [
    "# Using Decision Trees"
   ]
  },
  {
   "cell_type": "code",
   "execution_count": 13,
   "metadata": {},
   "outputs": [],
   "source": [
    "#Our Decision Tree model object\n",
    "model = DecisionTreeClassifier()"
   ]
  },
  {
   "cell_type": "code",
   "execution_count": 34,
   "metadata": {},
   "outputs": [],
   "source": [
    "#Training and Testing Data\n",
    "\n",
    "#Predictor Variables\n",
    "X = data[['country','targtype1','attacktype1','nkill','nwound']]\n",
    "\n",
    "#Target Variable\n",
    "Y = data['weaptype1_txt']"
   ]
  },
  {
   "cell_type": "code",
   "execution_count": 35,
   "metadata": {},
   "outputs": [],
   "source": [
    "#Splitting the data into training and testing sets\n",
    "\n",
    "X_train,X_test,Y_train,Y_test = train_test_split(X , Y , test_size = 0.3)"
   ]
  },
  {
   "cell_type": "code",
   "execution_count": 36,
   "metadata": {},
   "outputs": [
    {
     "data": {
      "text/plain": [
       "DecisionTreeClassifier(class_weight=None, criterion='gini', max_depth=None,\n",
       "            max_features=None, max_leaf_nodes=None,\n",
       "            min_impurity_decrease=0.0, min_impurity_split=None,\n",
       "            min_samples_leaf=1, min_samples_split=2,\n",
       "            min_weight_fraction_leaf=0.0, presort=False, random_state=None,\n",
       "            splitter='best')"
      ]
     },
     "execution_count": 36,
     "metadata": {},
     "output_type": "execute_result"
    }
   ],
   "source": [
    "#Fitting the model using the training data\n",
    "model.fit(X_train,Y_train)"
   ]
  },
  {
   "cell_type": "code",
   "execution_count": 37,
   "metadata": {},
   "outputs": [],
   "source": [
    "#Predicting the target variable using the decision tree model\n",
    "\n",
    "predictions = model.predict(X_test)"
   ]
  },
  {
   "cell_type": "code",
   "execution_count": 38,
   "metadata": {},
   "outputs": [
    {
     "name": "stdout",
     "output_type": "stream",
     "text": [
      "                           precision    recall  f1-score   support\n",
      "\n",
      "               Biological       0.33      0.27      0.30        11\n",
      "                 Chemical       0.36      0.33      0.34        86\n",
      "Explosives/Bombs/Dynamite       0.95      0.96      0.96     25611\n",
      "             Fake Weapons       0.11      0.09      0.10        11\n",
      "                 Firearms       0.83      0.87      0.85     16064\n",
      "               Incendiary       0.82      0.82      0.82      3059\n",
      "                    Melee       0.41      0.25      0.31       978\n",
      "                    Other       0.29      0.13      0.18        30\n",
      "             Radiological       0.75      1.00      0.86         3\n",
      "       Sabotage Equipment       0.17      0.06      0.09        33\n",
      "                  Unknown       0.76      0.68      0.72      3805\n",
      " Vehicle (non-explosives)       0.27      0.27      0.27        33\n",
      "\n",
      "              avg / total       0.88      0.88      0.88     49724\n",
      "\n"
     ]
    }
   ],
   "source": [
    "#Classification Report \n",
    "\n",
    "\n",
    "print(classification_report(Y_test,predictions))"
   ]
  },
  {
   "cell_type": "code",
   "execution_count": 39,
   "metadata": {},
   "outputs": [
    {
     "name": "stdout",
     "output_type": "stream",
     "text": [
      "[[    3     4     0     0     0     1     1     1     1     0     0     0]\n",
      " [    2    28    19     0     3     7    25     0     0     0     0     2]\n",
      " [    0    16 24593     2   890    26    25     0     0     0    57     2]\n",
      " [    1     0     1     1     3     3     0     0     0     0     2     0]\n",
      " [    0     6   868     2 13937   343   236     2     0     4   661     5]\n",
      " [    0     3    89     0   371  2514    29     1     0     4    48     0]\n",
      " [    2    18    33     2   573    43   244     4     0     0    48    11]\n",
      " [    1     2     2     0     8     3     5     4     0     0     2     3]\n",
      " [    0     0     0     0     0     0     0     0     3     0     0     0]\n",
      " [    0     0     1     0     6    23     0     1     0     2     0     0]\n",
      " [    0     0   170     2   908    96    27     1     0     2  2598     1]\n",
      " [    0     1     1     0     6     5    10     0     0     0     1     9]]\n"
     ]
    }
   ],
   "source": [
    "#Confusion Matrix \n",
    "\n",
    "\n",
    "print(confusion_matrix(Y_test,predictions))"
   ]
  },
  {
   "cell_type": "code",
   "execution_count": 40,
   "metadata": {},
   "outputs": [
    {
     "data": {
      "text/plain": [
       "0.8835974579679833"
      ]
     },
     "execution_count": 40,
     "metadata": {},
     "output_type": "execute_result"
    }
   ],
   "source": [
    "#Accuracy Measure\n",
    "accuracy_score(Y_test, predictions)"
   ]
  },
  {
   "cell_type": "code",
   "execution_count": null,
   "metadata": {},
   "outputs": [],
   "source": []
  },
  {
   "cell_type": "markdown",
   "metadata": {},
   "source": [
    "# Using Random Forest Classification"
   ]
  },
  {
   "cell_type": "code",
   "execution_count": 41,
   "metadata": {},
   "outputs": [],
   "source": [
    "#Our model object\n",
    "rfc = RandomForestClassifier()"
   ]
  },
  {
   "cell_type": "code",
   "execution_count": 42,
   "metadata": {},
   "outputs": [
    {
     "data": {
      "text/plain": [
       "RandomForestClassifier(bootstrap=True, class_weight=None, criterion='gini',\n",
       "            max_depth=None, max_features='auto', max_leaf_nodes=None,\n",
       "            min_impurity_decrease=0.0, min_impurity_split=None,\n",
       "            min_samples_leaf=1, min_samples_split=2,\n",
       "            min_weight_fraction_leaf=0.0, n_estimators=10, n_jobs=1,\n",
       "            oob_score=False, random_state=None, verbose=0,\n",
       "            warm_start=False)"
      ]
     },
     "execution_count": 42,
     "metadata": {},
     "output_type": "execute_result"
    }
   ],
   "source": [
    "#Fitting / Training the model using the training set\n",
    "rfc.fit(X_train,Y_train)"
   ]
  },
  {
   "cell_type": "code",
   "execution_count": 43,
   "metadata": {},
   "outputs": [],
   "source": [
    "#Predicting The Target Variable\n",
    "\n",
    "rfcpredictions = rfc.predict(X_test)"
   ]
  },
  {
   "cell_type": "code",
   "execution_count": 44,
   "metadata": {},
   "outputs": [
    {
     "name": "stdout",
     "output_type": "stream",
     "text": [
      "                           precision    recall  f1-score   support\n",
      "\n",
      "               Biological       0.33      0.27      0.30        11\n",
      "                 Chemical       0.36      0.33      0.34        86\n",
      "Explosives/Bombs/Dynamite       0.95      0.96      0.96     25611\n",
      "             Fake Weapons       0.11      0.09      0.10        11\n",
      "                 Firearms       0.83      0.87      0.85     16064\n",
      "               Incendiary       0.82      0.82      0.82      3059\n",
      "                    Melee       0.41      0.25      0.31       978\n",
      "                    Other       0.29      0.13      0.18        30\n",
      "             Radiological       0.75      1.00      0.86         3\n",
      "       Sabotage Equipment       0.17      0.06      0.09        33\n",
      "                  Unknown       0.76      0.68      0.72      3805\n",
      " Vehicle (non-explosives)       0.27      0.27      0.27        33\n",
      "\n",
      "              avg / total       0.88      0.88      0.88     49724\n",
      "\n"
     ]
    }
   ],
   "source": [
    "#Classification Report\n",
    "\n",
    "print(classification_report(Y_test,predictions))"
   ]
  },
  {
   "cell_type": "code",
   "execution_count": 45,
   "metadata": {},
   "outputs": [
    {
     "name": "stdout",
     "output_type": "stream",
     "text": [
      "[[    3     4     0     0     0     1     1     1     1     0     0     0]\n",
      " [    2    28    19     0     3     7    25     0     0     0     0     2]\n",
      " [    0    16 24593     2   890    26    25     0     0     0    57     2]\n",
      " [    1     0     1     1     3     3     0     0     0     0     2     0]\n",
      " [    0     6   868     2 13937   343   236     2     0     4   661     5]\n",
      " [    0     3    89     0   371  2514    29     1     0     4    48     0]\n",
      " [    2    18    33     2   573    43   244     4     0     0    48    11]\n",
      " [    1     2     2     0     8     3     5     4     0     0     2     3]\n",
      " [    0     0     0     0     0     0     0     0     3     0     0     0]\n",
      " [    0     0     1     0     6    23     0     1     0     2     0     0]\n",
      " [    0     0   170     2   908    96    27     1     0     2  2598     1]\n",
      " [    0     1     1     0     6     5    10     0     0     0     1     9]]\n"
     ]
    }
   ],
   "source": [
    "#Confusion Matrix \n",
    "\n",
    "print(confusion_matrix(Y_test,predictions))"
   ]
  },
  {
   "cell_type": "code",
   "execution_count": 46,
   "metadata": {},
   "outputs": [
    {
     "data": {
      "text/plain": [
       "0.8911591987772505"
      ]
     },
     "execution_count": 46,
     "metadata": {},
     "output_type": "execute_result"
    }
   ],
   "source": [
    "#Accuracy Of  Random Forest Model\n",
    "\n",
    "accuracy_score(Y_test,rfcpredictions)"
   ]
  }
 ],
 "metadata": {
  "kernelspec": {
   "display_name": "Python 3",
   "language": "python",
   "name": "python3"
  },
  "language_info": {
   "codemirror_mode": {
    "name": "ipython",
    "version": 3
   },
   "file_extension": ".py",
   "mimetype": "text/x-python",
   "name": "python",
   "nbconvert_exporter": "python",
   "pygments_lexer": "ipython3",
   "version": "3.6.1"
  }
 },
 "nbformat": 4,
 "nbformat_minor": 2
}
