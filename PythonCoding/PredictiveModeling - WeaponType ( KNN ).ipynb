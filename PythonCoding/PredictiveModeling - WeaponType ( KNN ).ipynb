{
 "cells": [
  {
   "cell_type": "markdown",
   "metadata": {},
   "source": [
    "# Weapon Type Classification"
   ]
  },
  {
   "cell_type": "markdown",
   "metadata": {},
   "source": [
    "# K Nearest Neighbors"
   ]
  },
  {
   "cell_type": "markdown",
   "metadata": {},
   "source": [
    "Importing The libraries"
   ]
  },
  {
   "cell_type": "code",
   "execution_count": 1,
   "metadata": {},
   "outputs": [],
   "source": [
    "import pandas as pd\n",
    "import numpy as np\n",
    "\n",
    "import matplotlib as mpl\n",
    "import matplotlib.pyplot as plt\n",
    "import seaborn as sns\n",
    "%matplotlib inline\n",
    "\n",
    "from sklearn.model_selection import train_test_split\n",
    "from sklearn.neighbors import KNeighborsClassifier\n",
    "from sklearn.metrics import accuracy_score\n",
    "\n",
    "import time"
   ]
  },
  {
   "cell_type": "markdown",
   "metadata": {},
   "source": [
    "Importing The Dataset"
   ]
  },
  {
   "cell_type": "code",
   "execution_count": 2,
   "metadata": {},
   "outputs": [],
   "source": [
    "data = pd.read_csv(\"A:/MinorProjectData/GlobalTerrorCleanPartTwo.csv\")"
   ]
  },
  {
   "cell_type": "code",
   "execution_count": 5,
   "metadata": {},
   "outputs": [
    {
     "data": {
      "text/html": [
       "<div>\n",
       "<style scoped>\n",
       "    .dataframe tbody tr th:only-of-type {\n",
       "        vertical-align: middle;\n",
       "    }\n",
       "\n",
       "    .dataframe tbody tr th {\n",
       "        vertical-align: top;\n",
       "    }\n",
       "\n",
       "    .dataframe thead th {\n",
       "        text-align: right;\n",
       "    }\n",
       "</style>\n",
       "<table border=\"1\" class=\"dataframe\">\n",
       "  <thead>\n",
       "    <tr style=\"text-align: right;\">\n",
       "      <th></th>\n",
       "      <th>eventid</th>\n",
       "      <th>year</th>\n",
       "      <th>month</th>\n",
       "      <th>day</th>\n",
       "      <th>extended</th>\n",
       "      <th>country</th>\n",
       "      <th>country_txt</th>\n",
       "      <th>region</th>\n",
       "      <th>region_txt</th>\n",
       "      <th>provstate</th>\n",
       "      <th>...</th>\n",
       "      <th>weapsubtype1_txt</th>\n",
       "      <th>nkill</th>\n",
       "      <th>nwound</th>\n",
       "      <th>property</th>\n",
       "      <th>ishostkid</th>\n",
       "      <th>dbsource</th>\n",
       "      <th>INT_LOG</th>\n",
       "      <th>INT_IDEO</th>\n",
       "      <th>INT_MISC</th>\n",
       "      <th>INT_ANY</th>\n",
       "    </tr>\n",
       "  </thead>\n",
       "  <tbody>\n",
       "    <tr>\n",
       "      <th>0</th>\n",
       "      <td>1.970000e+11</td>\n",
       "      <td>1970</td>\n",
       "      <td>7</td>\n",
       "      <td>2</td>\n",
       "      <td>0</td>\n",
       "      <td>58</td>\n",
       "      <td>Dominican Republic</td>\n",
       "      <td>2</td>\n",
       "      <td>Central America &amp; Caribbean</td>\n",
       "      <td>Unknown</td>\n",
       "      <td>...</td>\n",
       "      <td>Unknown</td>\n",
       "      <td>1</td>\n",
       "      <td>0</td>\n",
       "      <td>0</td>\n",
       "      <td>0</td>\n",
       "      <td>PGIS</td>\n",
       "      <td>0</td>\n",
       "      <td>0</td>\n",
       "      <td>0</td>\n",
       "      <td>0</td>\n",
       "    </tr>\n",
       "    <tr>\n",
       "      <th>1</th>\n",
       "      <td>1.970000e+11</td>\n",
       "      <td>1970</td>\n",
       "      <td>0</td>\n",
       "      <td>0</td>\n",
       "      <td>0</td>\n",
       "      <td>130</td>\n",
       "      <td>Mexico</td>\n",
       "      <td>1</td>\n",
       "      <td>North America</td>\n",
       "      <td>Unknown</td>\n",
       "      <td>...</td>\n",
       "      <td>Unknown</td>\n",
       "      <td>0</td>\n",
       "      <td>0</td>\n",
       "      <td>0</td>\n",
       "      <td>1</td>\n",
       "      <td>PGIS</td>\n",
       "      <td>0</td>\n",
       "      <td>1</td>\n",
       "      <td>1</td>\n",
       "      <td>1</td>\n",
       "    </tr>\n",
       "    <tr>\n",
       "      <th>2</th>\n",
       "      <td>1.970010e+11</td>\n",
       "      <td>1970</td>\n",
       "      <td>1</td>\n",
       "      <td>0</td>\n",
       "      <td>0</td>\n",
       "      <td>160</td>\n",
       "      <td>Philippines</td>\n",
       "      <td>5</td>\n",
       "      <td>Southeast Asia</td>\n",
       "      <td>Tarlac</td>\n",
       "      <td>...</td>\n",
       "      <td>Unknown</td>\n",
       "      <td>1</td>\n",
       "      <td>0</td>\n",
       "      <td>0</td>\n",
       "      <td>0</td>\n",
       "      <td>PGIS</td>\n",
       "      <td>-9</td>\n",
       "      <td>-9</td>\n",
       "      <td>1</td>\n",
       "      <td>1</td>\n",
       "    </tr>\n",
       "    <tr>\n",
       "      <th>3</th>\n",
       "      <td>1.970010e+11</td>\n",
       "      <td>1970</td>\n",
       "      <td>1</td>\n",
       "      <td>0</td>\n",
       "      <td>0</td>\n",
       "      <td>78</td>\n",
       "      <td>Greece</td>\n",
       "      <td>8</td>\n",
       "      <td>Western Europe</td>\n",
       "      <td>Attica</td>\n",
       "      <td>...</td>\n",
       "      <td>Unknown Explosive Type</td>\n",
       "      <td>0</td>\n",
       "      <td>0</td>\n",
       "      <td>1</td>\n",
       "      <td>0</td>\n",
       "      <td>PGIS</td>\n",
       "      <td>-9</td>\n",
       "      <td>-9</td>\n",
       "      <td>1</td>\n",
       "      <td>1</td>\n",
       "    </tr>\n",
       "    <tr>\n",
       "      <th>4</th>\n",
       "      <td>1.970010e+11</td>\n",
       "      <td>1970</td>\n",
       "      <td>1</td>\n",
       "      <td>0</td>\n",
       "      <td>0</td>\n",
       "      <td>101</td>\n",
       "      <td>Japan</td>\n",
       "      <td>4</td>\n",
       "      <td>East Asia</td>\n",
       "      <td>Unknown</td>\n",
       "      <td>...</td>\n",
       "      <td>Unknown</td>\n",
       "      <td>0</td>\n",
       "      <td>0</td>\n",
       "      <td>1</td>\n",
       "      <td>0</td>\n",
       "      <td>PGIS</td>\n",
       "      <td>-9</td>\n",
       "      <td>-9</td>\n",
       "      <td>1</td>\n",
       "      <td>1</td>\n",
       "    </tr>\n",
       "  </tbody>\n",
       "</table>\n",
       "<p>5 rows × 48 columns</p>\n",
       "</div>"
      ],
      "text/plain": [
       "        eventid  year  month  day  extended  country         country_txt  \\\n",
       "0  1.970000e+11  1970      7    2         0       58  Dominican Republic   \n",
       "1  1.970000e+11  1970      0    0         0      130              Mexico   \n",
       "2  1.970010e+11  1970      1    0         0      160         Philippines   \n",
       "3  1.970010e+11  1970      1    0         0       78              Greece   \n",
       "4  1.970010e+11  1970      1    0         0      101               Japan   \n",
       "\n",
       "   region                   region_txt provstate   ...     \\\n",
       "0       2  Central America & Caribbean   Unknown   ...      \n",
       "1       1                North America   Unknown   ...      \n",
       "2       5               Southeast Asia    Tarlac   ...      \n",
       "3       8               Western Europe    Attica   ...      \n",
       "4       4                    East Asia   Unknown   ...      \n",
       "\n",
       "         weapsubtype1_txt  nkill  nwound  property  ishostkid  dbsource  \\\n",
       "0                 Unknown      1       0         0          0      PGIS   \n",
       "1                 Unknown      0       0         0          1      PGIS   \n",
       "2                 Unknown      1       0         0          0      PGIS   \n",
       "3  Unknown Explosive Type      0       0         1          0      PGIS   \n",
       "4                 Unknown      0       0         1          0      PGIS   \n",
       "\n",
       "   INT_LOG  INT_IDEO  INT_MISC  INT_ANY  \n",
       "0        0         0         0        0  \n",
       "1        0         1         1        1  \n",
       "2       -9        -9         1        1  \n",
       "3       -9        -9         1        1  \n",
       "4       -9        -9         1        1  \n",
       "\n",
       "[5 rows x 48 columns]"
      ]
     },
     "execution_count": 5,
     "metadata": {},
     "output_type": "execute_result"
    }
   ],
   "source": [
    "data.head()"
   ]
  },
  {
   "cell_type": "code",
   "execution_count": 7,
   "metadata": {},
   "outputs": [
    {
     "name": "stdout",
     "output_type": "stream",
     "text": [
      "<class 'pandas.core.frame.DataFrame'>\n",
      "RangeIndex: 165744 entries, 0 to 165743\n",
      "Data columns (total 48 columns):\n",
      "eventid             165744 non-null float64\n",
      "year                165744 non-null int64\n",
      "month               165744 non-null int64\n",
      "day                 165744 non-null int64\n",
      "extended            165744 non-null int64\n",
      "country             165744 non-null int64\n",
      "country_txt         165744 non-null object\n",
      "region              165744 non-null int64\n",
      "region_txt          165744 non-null object\n",
      "provstate           165744 non-null object\n",
      "city                165744 non-null object\n",
      "latitude            165744 non-null float64\n",
      "longitude           165744 non-null float64\n",
      "specificity         165744 non-null int64\n",
      "vicinity            165744 non-null int64\n",
      "crit1               165744 non-null int64\n",
      "crit2               165744 non-null int64\n",
      "crit3               165744 non-null int64\n",
      "doubtterr           165744 non-null int64\n",
      "multiple            165744 non-null int64\n",
      "success             165744 non-null int64\n",
      "suicide             165744 non-null int64\n",
      "attacktype1         165744 non-null int64\n",
      "attacktype1_txt     165744 non-null object\n",
      "targtype1           165744 non-null int64\n",
      "targtype1_txt       165744 non-null object\n",
      "targsubtype1        165744 non-null int64\n",
      "targsubtype1_txt    165744 non-null object\n",
      "corp1               165744 non-null object\n",
      "target1             165744 non-null object\n",
      "natlty1             165744 non-null int64\n",
      "natlty1_txt         165744 non-null object\n",
      "gname               165744 non-null object\n",
      "guncertain1         165744 non-null int64\n",
      "individual          165744 non-null int64\n",
      "weaptype1           165744 non-null int64\n",
      "weaptype1_txt       165744 non-null object\n",
      "weapsubtype1        165744 non-null int64\n",
      "weapsubtype1_txt    165744 non-null object\n",
      "nkill               165744 non-null int64\n",
      "nwound              165744 non-null int64\n",
      "property            165744 non-null int64\n",
      "ishostkid           165744 non-null int64\n",
      "dbsource            165744 non-null object\n",
      "INT_LOG             165744 non-null int64\n",
      "INT_IDEO            165744 non-null int64\n",
      "INT_MISC            165744 non-null int64\n",
      "INT_ANY             165744 non-null int64\n",
      "dtypes: float64(3), int64(31), object(14)\n",
      "memory usage: 51.8+ MB\n"
     ]
    }
   ],
   "source": [
    "data.info(verbose=True)"
   ]
  },
  {
   "cell_type": "code",
   "execution_count": null,
   "metadata": {},
   "outputs": [],
   "source": []
  },
  {
   "cell_type": "markdown",
   "metadata": {},
   "source": [
    "Splitting The Dataset"
   ]
  },
  {
   "cell_type": "code",
   "execution_count": 3,
   "metadata": {},
   "outputs": [],
   "source": [
    "seed = 42\n",
    "\n",
    "#Predictor variables with one hot encoding for machine learning model to understand.\n",
    "\n",
    "X = pd.get_dummies(data[['country_txt', 'region_txt', 'attacktype1_txt', 'nkill']], \n",
    "                   drop_first = True)\n",
    "\n",
    "#Target Variable\n",
    "y = data['weaptype1_txt']\n",
    "\n",
    "#Create an 80/20 split for training and testing data\n",
    "X_train, X_test, y_train, y_test = train_test_split(X, y, test_size = 0.2, random_state = seed, stratify = y)"
   ]
  },
  {
   "cell_type": "markdown",
   "metadata": {},
   "source": [
    "Using the model and fitting on the training set"
   ]
  },
  {
   "cell_type": "code",
   "execution_count": 4,
   "metadata": {},
   "outputs": [
    {
     "data": {
      "text/plain": [
       "KNeighborsClassifier(algorithm='auto', leaf_size=30, metric='minkowski',\n",
       "           metric_params=None, n_jobs=1, n_neighbors=5, p=2,\n",
       "           weights='uniform')"
      ]
     },
     "execution_count": 4,
     "metadata": {},
     "output_type": "execute_result"
    }
   ],
   "source": [
    "#Model Object\n",
    "knn_model = KNeighborsClassifier()\n",
    "\n",
    "#Fitting the model\n",
    "knn_model.fit(X_train,y_train)"
   ]
  },
  {
   "cell_type": "markdown",
   "metadata": {},
   "source": [
    "Using the model for predictions"
   ]
  },
  {
   "cell_type": "code",
   "execution_count": 5,
   "metadata": {},
   "outputs": [],
   "source": [
    "knn_predictions = knn_model.predict(X_test)"
   ]
  },
  {
   "cell_type": "code",
   "execution_count": 6,
   "metadata": {},
   "outputs": [
    {
     "name": "stdout",
     "output_type": "stream",
     "text": [
      "0.6477987421383647\n"
     ]
    }
   ],
   "source": [
    "knn_accuracy = accuracy_score(y_test,knn_predictions)\n",
    "\n",
    "print(knn_accuracy)"
   ]
  },
  {
   "cell_type": "code",
   "execution_count": null,
   "metadata": {},
   "outputs": [],
   "source": []
  },
  {
   "cell_type": "code",
   "execution_count": null,
   "metadata": {},
   "outputs": [],
   "source": []
  },
  {
   "cell_type": "code",
   "execution_count": null,
   "metadata": {},
   "outputs": [],
   "source": []
  }
 ],
 "metadata": {
  "kernelspec": {
   "display_name": "Python 3",
   "language": "python",
   "name": "python3"
  },
  "language_info": {
   "codemirror_mode": {
    "name": "ipython",
    "version": 3
   },
   "file_extension": ".py",
   "mimetype": "text/x-python",
   "name": "python",
   "nbconvert_exporter": "python",
   "pygments_lexer": "ipython3",
   "version": "3.6.1"
  }
 },
 "nbformat": 4,
 "nbformat_minor": 2
}
